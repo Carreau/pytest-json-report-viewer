{
 "cells": [
  {
   "cell_type": "code",
   "execution_count": 13,
   "id": "9bfd8fa2",
   "metadata": {},
   "outputs": [],
   "source": [
    "from numpy import array\n",
    "\n",
    "class Toto:\n",
    "    \n",
    "    def __array__(self):\n",
    "        return array([1,1])\n",
    "    \n",
    "    def __add__(self, other):\n",
    "        print('Toto __add__ called')\n",
    "        # tell Python to look at other.__radd__(self)\n",
    "        # Pythno do the same if hasattr(self, '__add__') == False\n",
    "        return NotImplemented # != NotImplementedError, \n",
    "        \n",
    "    def __radd__(self, other):\n",
    "        print('Toto __radd__ called')\n",
    "        return NotImplemented   # we'll likely raise a typerror, as __radd__ is called second.\n",
    "        \n",
    "class Tata:\n",
    "    \n",
    "    def __array__(self):\n",
    "        return array([1,1])\n",
    "    \n",
    "    def __add__(self, other):\n",
    "        print('Tata __add__ called')\n",
    "        # tell Python to look at other.__radd__(self)\n",
    "        # Pythno do the same if hasattr(self, '__add__') == False\n",
    "        return NotImplemented # != NotImplementedError, \n",
    "        \n",
    "    def __radd__(self, other):\n",
    "        print('Tata __radd__ called')\n",
    "        return array([3,3])\n",
    "            "
   ]
  },
  {
   "cell_type": "code",
   "execution_count": 14,
   "id": "4001f4b3",
   "metadata": {},
   "outputs": [
    {
     "name": "stdout",
     "output_type": "stream",
     "text": [
      "Toto __add__ called\n",
      "Tata __radd__ called\n"
     ]
    },
    {
     "data": {
      "text/plain": [
       "array([3, 3])"
      ]
     },
     "execution_count": 14,
     "metadata": {},
     "output_type": "execute_result"
    }
   ],
   "source": [
    "Toto() + Tata()"
   ]
  },
  {
   "cell_type": "code",
   "execution_count": 15,
   "id": "5b5210c7",
   "metadata": {},
   "outputs": [
    {
     "name": "stdout",
     "output_type": "stream",
     "text": [
      "Tata __add__ called\n",
      "Toto __radd__ called\n"
     ]
    },
    {
     "ename": "TypeError",
     "evalue": "unsupported operand type(s) for +: 'Tata' and 'Toto'",
     "output_type": "error",
     "traceback": [
      "\u001b[0;31m---------------------------------------------------------------------------\u001b[0m",
      "\u001b[0;31mTypeError\u001b[0m                                 Traceback (most recent call last)",
      "Input \u001b[0;32mIn [15]\u001b[0m, in \u001b[0;36m<cell line: 1>\u001b[0;34m()\u001b[0m\n\u001b[0;32m----> 1\u001b[0m \u001b[43mTata\u001b[49m\u001b[43m(\u001b[49m\u001b[43m)\u001b[49m\u001b[38;5;241;43m+\u001b[39;49m\u001b[43mToto\u001b[49m\u001b[43m(\u001b[49m\u001b[43m)\u001b[49m\n",
      "\u001b[0;31mTypeError\u001b[0m: unsupported operand type(s) for +: 'Tata' and 'Toto'"
     ]
    }
   ],
   "source": [
    "Tata()+Toto()"
   ]
  },
  {
   "cell_type": "code",
   "execution_count": null,
   "id": "82ff863e",
   "metadata": {},
   "outputs": [],
   "source": []
  }
 ],
 "metadata": {
  "kernelspec": {
   "display_name": "Python 3 (ipykernel)",
   "language": "python",
   "name": "python3"
  },
  "language_info": {
   "codemirror_mode": {
    "name": "ipython",
    "version": 3
   },
   "file_extension": ".py",
   "mimetype": "text/x-python",
   "name": "python",
   "nbconvert_exporter": "python",
   "pygments_lexer": "ipython3",
   "version": "3.10.0"
  }
 },
 "nbformat": 4,
 "nbformat_minor": 5
}
